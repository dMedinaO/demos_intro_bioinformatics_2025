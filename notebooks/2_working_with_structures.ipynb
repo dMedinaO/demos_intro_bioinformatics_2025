{
 "cells": [
  {
   "cell_type": "markdown",
   "id": "9538ea79",
   "metadata": {},
   "source": [
    "### Ejemplos demostrativos de estructuras de datos\n",
    "\n",
    "- Listas\n",
    "- Tuplas\n",
    "- Diccionarios\n",
    "- Listas de diccionarios\n",
    "- Diccionarios con listas\n",
    "-Diccionarios anidados"
   ]
  },
  {
   "cell_type": "markdown",
   "id": "1db2ac6a",
   "metadata": {},
   "source": [
    "1. Listas:\n",
    "    - Una lista es una colección ordenada y mutable de elementos. Se define con corchetes []."
   ]
  },
  {
   "cell_type": "code",
   "execution_count": 1,
   "id": "c754cc6e",
   "metadata": {},
   "outputs": [
    {
     "name": "stdout",
     "output_type": "stream",
     "text": [
      "manzana\n",
      "['manzana', 'pera', 'naranja']\n",
      "['pera', 'naranja', 'uva']\n"
     ]
    }
   ],
   "source": [
    "# Crear una lista\n",
    "frutas = [\"manzana\", \"banana\", \"naranja\"]\n",
    "\n",
    "# Acceder a elementos\n",
    "print(frutas[0])  # manzana\n",
    "\n",
    "# Modificar elementos\n",
    "frutas[1] = \"pera\"\n",
    "print(frutas)  # ['manzana', 'pera', 'naranja']\n",
    "\n",
    "# Agregar y eliminar elementos\n",
    "frutas.append(\"uva\")\n",
    "frutas.remove(\"manzana\")\n",
    "\n",
    "print(frutas)  # ['pera', 'naranja', 'uva']"
   ]
  },
  {
   "cell_type": "markdown",
   "id": "7ba49d1c",
   "metadata": {},
   "source": [
    "2. Tuplas:\n",
    "    - Una tupla es una colección ordenada pero inmutable. Se define con paréntesis ()."
   ]
  },
  {
   "cell_type": "code",
   "execution_count": 2,
   "id": "76a3c969",
   "metadata": {},
   "outputs": [
    {
     "name": "stdout",
     "output_type": "stream",
     "text": [
      "10\n"
     ]
    }
   ],
   "source": [
    "# Crear una tupla\n",
    "coordenadas = (10, 20)\n",
    "\n",
    "# Acceder a elementos\n",
    "print(coordenadas[0])  # 10\n",
    "\n",
    "# No se puede modificar\n",
    "# coordenadas[0] = 5  # Esto da error\n",
    "\n",
    "# Tuplas son útiles para datos que no deben cambiar\n"
   ]
  },
  {
   "cell_type": "markdown",
   "id": "97a2ef54",
   "metadata": {},
   "source": [
    "3. Diccionarios:\n",
    "    - Un diccionario es una colección desordenada de pares clave-valor. Se define con llaves {}."
   ]
  },
  {
   "cell_type": "code",
   "execution_count": 3,
   "id": "3bd0111d",
   "metadata": {},
   "outputs": [
    {
     "name": "stdout",
     "output_type": "stream",
     "text": [
      "Ana\n",
      "nombre -> Ana\n",
      "edad -> 31\n",
      "ciudad -> Santiago\n",
      "profesion -> Ingeniera\n"
     ]
    }
   ],
   "source": [
    "# Crear un diccionario\n",
    "persona = {\n",
    "    \"nombre\": \"Ana\",\n",
    "    \"edad\": 30,\n",
    "    \"ciudad\": \"Santiago\"\n",
    "}\n",
    "\n",
    "# Acceder a valores\n",
    "print(persona[\"nombre\"])  # Ana\n",
    "\n",
    "# Agregar o modificar\n",
    "persona[\"profesion\"] = \"Ingeniera\"\n",
    "persona[\"edad\"] = 31\n",
    "\n",
    "# Recorrer claves y valores\n",
    "for clave, valor in persona.items():\n",
    "    print(clave, \"->\", valor)\n"
   ]
  },
  {
   "cell_type": "markdown",
   "id": "f7a67926",
   "metadata": {},
   "source": [
    "4. Lista de diccionarios:\n",
    "    - Estructura muy común para representar colecciones de objetos."
   ]
  },
  {
   "cell_type": "code",
   "execution_count": 4,
   "id": "b72c87ab",
   "metadata": {},
   "outputs": [
    {
     "name": "stdout",
     "output_type": "stream",
     "text": [
      "Ana tiene 30 años\n",
      "Luis tiene 25 años\n",
      "Pedro tiene 40 años\n"
     ]
    }
   ],
   "source": [
    "# Lista de personas (cada una es un diccionario)\n",
    "personas = [\n",
    "    {\"nombre\": \"Ana\", \"edad\": 30},\n",
    "    {\"nombre\": \"Luis\", \"edad\": 25},\n",
    "    {\"nombre\": \"Pedro\", \"edad\": 40}\n",
    "]\n",
    "\n",
    "# Recorrer la lista\n",
    "for persona in personas:\n",
    "    print(persona[\"nombre\"], \"tiene\", persona[\"edad\"], \"años\")\n"
   ]
  },
  {
   "cell_type": "markdown",
   "id": "35d3b996",
   "metadata": {},
   "source": [
    "5. Diccionario con listas:\n",
    "    - Muy útil para agrupar elementos por categoría."
   ]
  },
  {
   "cell_type": "code",
   "execution_count": 5,
   "id": "8f42e9cb",
   "metadata": {},
   "outputs": [
    {
     "name": "stdout",
     "output_type": "stream",
     "text": [
      "Matemáticas: promedio = 5.43\n",
      "Lenguaje: promedio = 6.20\n"
     ]
    }
   ],
   "source": [
    "# Diccionario con listas como valores\n",
    "notas = {\n",
    "    \"Matemáticas\": [5.5, 6.0, 4.8],\n",
    "    \"Lenguaje\": [6.5, 5.9]\n",
    "}\n",
    "\n",
    "# Acceder y recorrer\n",
    "for asignatura, lista_notas in notas.items():\n",
    "    promedio = sum(lista_notas) / len(lista_notas)\n",
    "    print(f\"{asignatura}: promedio = {promedio:.2f}\")"
   ]
  },
  {
   "cell_type": "markdown",
   "id": "c719d6f4",
   "metadata": {},
   "source": [
    "6. Diccionarios anidados:\n",
    "    - Diccionarios dentro de otros diccionarios, para estructuras más complejas."
   ]
  },
  {
   "cell_type": "code",
   "execution_count": 6,
   "id": "ee06ade9",
   "metadata": {},
   "outputs": [
    {
     "name": "stdout",
     "output_type": "stream",
     "text": [
      "Ana\n",
      "Ana (ID 001) trabaja en TI y está activo.\n",
      "Luis (ID 002) trabaja en Ventas y está inactivo.\n"
     ]
    }
   ],
   "source": [
    "# Diccionario de empleados, con datos por persona\n",
    "empleados = {\n",
    "    \"001\": {\"nombre\": \"Ana\", \"departamento\": \"TI\", \"activo\": True},\n",
    "    \"002\": {\"nombre\": \"Luis\", \"departamento\": \"Ventas\", \"activo\": False}\n",
    "}\n",
    "\n",
    "# Acceder a datos internos\n",
    "print(empleados[\"001\"][\"nombre\"])  # Ana\n",
    "\n",
    "# Recorrer\n",
    "for id_emp, datos in empleados.items():\n",
    "    estado = \"activo\" if datos[\"activo\"] else \"inactivo\"\n",
    "    print(f\"{datos['nombre']} (ID {id_emp}) trabaja en {datos['departamento']} y está {estado}.\")"
   ]
  }
 ],
 "metadata": {
  "kernelspec": {
   "display_name": "training_models_pi",
   "language": "python",
   "name": "python3"
  },
  "language_info": {
   "codemirror_mode": {
    "name": "ipython",
    "version": 3
   },
   "file_extension": ".py",
   "mimetype": "text/x-python",
   "name": "python",
   "nbconvert_exporter": "python",
   "pygments_lexer": "ipython3",
   "version": "3.12.8"
  }
 },
 "nbformat": 4,
 "nbformat_minor": 5
}
