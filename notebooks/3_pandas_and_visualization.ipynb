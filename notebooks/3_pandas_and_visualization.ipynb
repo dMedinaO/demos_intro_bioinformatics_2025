{
 "cells": [
  {
   "cell_type": "markdown",
   "id": "6250d1c0",
   "metadata": {},
   "source": [
    "### Tutorial completo de Pandas en Python\n",
    "\n",
    "#### Introducción\n",
    "\n",
    "Pandas es una biblioteca esencial para el análisis y manipulación de datos en Python. Permite trabajar con estructuras de datos como:\n",
    "\n",
    "    - Series: una columna\n",
    "    - DataFrame: una tabla con filas y columnas"
   ]
  },
  {
   "cell_type": "code",
   "execution_count": 9,
   "id": "d8d3e53a",
   "metadata": {},
   "outputs": [],
   "source": [
    "import pandas as pd"
   ]
  },
  {
   "cell_type": "markdown",
   "id": "aa2d7341",
   "metadata": {},
   "source": [
    "1. Series"
   ]
  },
  {
   "cell_type": "code",
   "execution_count": 10,
   "id": "5cdfb099",
   "metadata": {},
   "outputs": [
    {
     "name": "stdout",
     "output_type": "stream",
     "text": [
      "0    10\n",
      "1    20\n",
      "2    30\n",
      "3    40\n",
      "dtype: int64\n",
      "a    10\n",
      "b    20\n",
      "c    30\n",
      "dtype: int64\n"
     ]
    }
   ],
   "source": [
    "# Crear una Serie\n",
    "s = pd.Series([10, 20, 30, 40])\n",
    "print(s)\n",
    "\n",
    "# Con etiquetas personalizadas\n",
    "s2 = pd.Series([10, 20, 30], index=[\"a\", \"b\", \"c\"])\n",
    "print(s2)"
   ]
  },
  {
   "cell_type": "markdown",
   "id": "518800f5",
   "metadata": {},
   "source": [
    "2. DataFrames"
   ]
  },
  {
   "cell_type": "code",
   "execution_count": 11,
   "id": "89c82ed0",
   "metadata": {},
   "outputs": [
    {
     "name": "stdout",
     "output_type": "stream",
     "text": [
      "  Nombre  Edad      Ciudad\n",
      "0    Ana    30    Santiago\n",
      "1   Luis    25  Concepción\n",
      "2  Pedro    40  Concepción\n"
     ]
    }
   ],
   "source": [
    "# Crear un DataFrame desde un diccionario\n",
    "datos = {\n",
    "    \"Nombre\": [\"Ana\", \"Luis\", \"Pedro\"],\n",
    "    \"Edad\": [30, 25, 40],\n",
    "    \"Ciudad\": [\"Santiago\", \"Concepción\", \"Concepción\"]\n",
    "}\n",
    "\n",
    "df = pd.DataFrame(datos)\n",
    "print(df)\n"
   ]
  },
  {
   "cell_type": "markdown",
   "id": "6a4b6740",
   "metadata": {},
   "source": [
    "3.  Inspección básica"
   ]
  },
  {
   "cell_type": "code",
   "execution_count": 12,
   "id": "5f4eb4da",
   "metadata": {},
   "outputs": [
    {
     "name": "stdout",
     "output_type": "stream",
     "text": [
      "(3, 3)\n",
      "Index(['Nombre', 'Edad', 'Ciudad'], dtype='object')\n",
      "<class 'pandas.core.frame.DataFrame'>\n",
      "RangeIndex: 3 entries, 0 to 2\n",
      "Data columns (total 3 columns):\n",
      " #   Column  Non-Null Count  Dtype \n",
      "---  ------  --------------  ----- \n",
      " 0   Nombre  3 non-null      object\n",
      " 1   Edad    3 non-null      int64 \n",
      " 2   Ciudad  3 non-null      object\n",
      "dtypes: int64(1), object(2)\n",
      "memory usage: 204.0+ bytes\n"
     ]
    },
    {
     "data": {
      "text/html": [
       "<div>\n",
       "<style scoped>\n",
       "    .dataframe tbody tr th:only-of-type {\n",
       "        vertical-align: middle;\n",
       "    }\n",
       "\n",
       "    .dataframe tbody tr th {\n",
       "        vertical-align: top;\n",
       "    }\n",
       "\n",
       "    .dataframe thead th {\n",
       "        text-align: right;\n",
       "    }\n",
       "</style>\n",
       "<table border=\"1\" class=\"dataframe\">\n",
       "  <thead>\n",
       "    <tr style=\"text-align: right;\">\n",
       "      <th></th>\n",
       "      <th>Edad</th>\n",
       "    </tr>\n",
       "  </thead>\n",
       "  <tbody>\n",
       "    <tr>\n",
       "      <th>count</th>\n",
       "      <td>3.000000</td>\n",
       "    </tr>\n",
       "    <tr>\n",
       "      <th>mean</th>\n",
       "      <td>31.666667</td>\n",
       "    </tr>\n",
       "    <tr>\n",
       "      <th>std</th>\n",
       "      <td>7.637626</td>\n",
       "    </tr>\n",
       "    <tr>\n",
       "      <th>min</th>\n",
       "      <td>25.000000</td>\n",
       "    </tr>\n",
       "    <tr>\n",
       "      <th>25%</th>\n",
       "      <td>27.500000</td>\n",
       "    </tr>\n",
       "    <tr>\n",
       "      <th>50%</th>\n",
       "      <td>30.000000</td>\n",
       "    </tr>\n",
       "    <tr>\n",
       "      <th>75%</th>\n",
       "      <td>35.000000</td>\n",
       "    </tr>\n",
       "    <tr>\n",
       "      <th>max</th>\n",
       "      <td>40.000000</td>\n",
       "    </tr>\n",
       "  </tbody>\n",
       "</table>\n",
       "</div>"
      ],
      "text/plain": [
       "            Edad\n",
       "count   3.000000\n",
       "mean   31.666667\n",
       "std     7.637626\n",
       "min    25.000000\n",
       "25%    27.500000\n",
       "50%    30.000000\n",
       "75%    35.000000\n",
       "max    40.000000"
      ]
     },
     "execution_count": 12,
     "metadata": {},
     "output_type": "execute_result"
    }
   ],
   "source": [
    "print(df.shape)          # filas y columnas\n",
    "print(df.columns)        # nombres de columnas\n",
    "df.info()         # tipo de datos y memoria\n",
    "df.describe()     # estadísticas descriptivas"
   ]
  },
  {
   "cell_type": "markdown",
   "id": "f40de0a9",
   "metadata": {},
   "source": [
    "4. Selección y filtrado"
   ]
  },
  {
   "cell_type": "code",
   "execution_count": 13,
   "id": "b1664f24",
   "metadata": {},
   "outputs": [
    {
     "name": "stdout",
     "output_type": "stream",
     "text": [
      "0    30\n",
      "1    25\n",
      "2    40\n",
      "Name: Edad, dtype: int64\n",
      "Nombre         Ana\n",
      "Edad            30\n",
      "Ciudad    Santiago\n",
      "Name: 0, dtype: object\n",
      "Nombre          Luis\n",
      "Edad              25\n",
      "Ciudad    Concepción\n",
      "Name: 1, dtype: object\n",
      "  Nombre  Edad      Ciudad\n",
      "2  Pedro    40  Concepción\n"
     ]
    }
   ],
   "source": [
    "# Selección de columna\n",
    "print(df[\"Edad\"])\n",
    "\n",
    "# Selección de fila por índice\n",
    "print(df.loc[0])        # por etiqueta\n",
    "print(df.iloc[1])       # por posición\n",
    "\n",
    "# Filtrado por condición\n",
    "print(df[df[\"Edad\"] > 30])\n"
   ]
  },
  {
   "cell_type": "markdown",
   "id": "d618b746",
   "metadata": {},
   "source": [
    "5. Agregar columnas nuevas"
   ]
  },
  {
   "cell_type": "code",
   "execution_count": 14,
   "id": "a81cc35d",
   "metadata": {},
   "outputs": [
    {
     "data": {
      "text/html": [
       "<div>\n",
       "<style scoped>\n",
       "    .dataframe tbody tr th:only-of-type {\n",
       "        vertical-align: middle;\n",
       "    }\n",
       "\n",
       "    .dataframe tbody tr th {\n",
       "        vertical-align: top;\n",
       "    }\n",
       "\n",
       "    .dataframe thead th {\n",
       "        text-align: right;\n",
       "    }\n",
       "</style>\n",
       "<table border=\"1\" class=\"dataframe\">\n",
       "  <thead>\n",
       "    <tr style=\"text-align: right;\">\n",
       "      <th></th>\n",
       "      <th>Nombre</th>\n",
       "      <th>Edad</th>\n",
       "      <th>Ciudad</th>\n",
       "      <th>Mayor de Edad</th>\n",
       "      <th>Edad al cuadrado</th>\n",
       "    </tr>\n",
       "  </thead>\n",
       "  <tbody>\n",
       "    <tr>\n",
       "      <th>0</th>\n",
       "      <td>Ana</td>\n",
       "      <td>30</td>\n",
       "      <td>Santiago</td>\n",
       "      <td>True</td>\n",
       "      <td>900</td>\n",
       "    </tr>\n",
       "    <tr>\n",
       "      <th>1</th>\n",
       "      <td>Luis</td>\n",
       "      <td>25</td>\n",
       "      <td>Concepción</td>\n",
       "      <td>True</td>\n",
       "      <td>625</td>\n",
       "    </tr>\n",
       "    <tr>\n",
       "      <th>2</th>\n",
       "      <td>Pedro</td>\n",
       "      <td>40</td>\n",
       "      <td>Concepción</td>\n",
       "      <td>True</td>\n",
       "      <td>1600</td>\n",
       "    </tr>\n",
       "  </tbody>\n",
       "</table>\n",
       "</div>"
      ],
      "text/plain": [
       "  Nombre  Edad      Ciudad  Mayor de Edad  Edad al cuadrado\n",
       "0    Ana    30    Santiago           True               900\n",
       "1   Luis    25  Concepción           True               625\n",
       "2  Pedro    40  Concepción           True              1600"
      ]
     },
     "execution_count": 14,
     "metadata": {},
     "output_type": "execute_result"
    }
   ],
   "source": [
    "# Crear nueva columna\n",
    "df[\"Mayor de Edad\"] = df[\"Edad\"] >= 18\n",
    "\n",
    "# Columna calculada\n",
    "df[\"Edad al cuadrado\"] = df[\"Edad\"] ** 2\n",
    "\n",
    "df.head()"
   ]
  },
  {
   "cell_type": "markdown",
   "id": "27855005",
   "metadata": {},
   "source": [
    "6. Ordenar datos"
   ]
  },
  {
   "cell_type": "code",
   "execution_count": 15,
   "id": "0251e056",
   "metadata": {},
   "outputs": [
    {
     "data": {
      "text/html": [
       "<div>\n",
       "<style scoped>\n",
       "    .dataframe tbody tr th:only-of-type {\n",
       "        vertical-align: middle;\n",
       "    }\n",
       "\n",
       "    .dataframe tbody tr th {\n",
       "        vertical-align: top;\n",
       "    }\n",
       "\n",
       "    .dataframe thead th {\n",
       "        text-align: right;\n",
       "    }\n",
       "</style>\n",
       "<table border=\"1\" class=\"dataframe\">\n",
       "  <thead>\n",
       "    <tr style=\"text-align: right;\">\n",
       "      <th></th>\n",
       "      <th>Nombre</th>\n",
       "      <th>Edad</th>\n",
       "      <th>Ciudad</th>\n",
       "      <th>Mayor de Edad</th>\n",
       "      <th>Edad al cuadrado</th>\n",
       "    </tr>\n",
       "  </thead>\n",
       "  <tbody>\n",
       "    <tr>\n",
       "      <th>2</th>\n",
       "      <td>Pedro</td>\n",
       "      <td>40</td>\n",
       "      <td>Concepción</td>\n",
       "      <td>True</td>\n",
       "      <td>1600</td>\n",
       "    </tr>\n",
       "    <tr>\n",
       "      <th>0</th>\n",
       "      <td>Ana</td>\n",
       "      <td>30</td>\n",
       "      <td>Santiago</td>\n",
       "      <td>True</td>\n",
       "      <td>900</td>\n",
       "    </tr>\n",
       "    <tr>\n",
       "      <th>1</th>\n",
       "      <td>Luis</td>\n",
       "      <td>25</td>\n",
       "      <td>Concepción</td>\n",
       "      <td>True</td>\n",
       "      <td>625</td>\n",
       "    </tr>\n",
       "  </tbody>\n",
       "</table>\n",
       "</div>"
      ],
      "text/plain": [
       "  Nombre  Edad      Ciudad  Mayor de Edad  Edad al cuadrado\n",
       "2  Pedro    40  Concepción           True              1600\n",
       "0    Ana    30    Santiago           True               900\n",
       "1   Luis    25  Concepción           True               625"
      ]
     },
     "execution_count": 15,
     "metadata": {},
     "output_type": "execute_result"
    }
   ],
   "source": [
    "# Ordenar por columna\n",
    "df.sort_values(by=\"Edad\", ascending=False)"
   ]
  },
  {
   "cell_type": "markdown",
   "id": "91eecc64",
   "metadata": {},
   "source": [
    "7. Agrupamiento (groupby)"
   ]
  },
  {
   "cell_type": "code",
   "execution_count": 17,
   "id": "af1dc965",
   "metadata": {},
   "outputs": [
    {
     "data": {
      "text/plain": [
       "Ciudad\n",
       "Concepción    32.5\n",
       "Santiago      30.0\n",
       "Name: Edad, dtype: float64"
      ]
     },
     "execution_count": 17,
     "metadata": {},
     "output_type": "execute_result"
    }
   ],
   "source": [
    "# Promedio de edad por ciudad\n",
    "df.groupby(\"Ciudad\")[\"Edad\"].mean()"
   ]
  },
  {
   "cell_type": "code",
   "execution_count": 18,
   "id": "5151985d",
   "metadata": {},
   "outputs": [
    {
     "data": {
      "text/plain": [
       "Ciudad\n",
       "Concepción    2\n",
       "Santiago      1\n",
       "dtype: int64"
      ]
     },
     "execution_count": 18,
     "metadata": {},
     "output_type": "execute_result"
    }
   ],
   "source": [
    "# Contar elementos\n",
    "df.groupby(\"Ciudad\").size()"
   ]
  },
  {
   "cell_type": "markdown",
   "id": "3e7d6ffa",
   "metadata": {},
   "source": [
    "8. Detección de valores faltantes"
   ]
  },
  {
   "cell_type": "code",
   "execution_count": 19,
   "id": "055b919b",
   "metadata": {},
   "outputs": [
    {
     "data": {
      "text/plain": [
       "Nombre              0\n",
       "Edad                0\n",
       "Ciudad              0\n",
       "Mayor de Edad       0\n",
       "Edad al cuadrado    0\n",
       "dtype: int64"
      ]
     },
     "execution_count": 19,
     "metadata": {},
     "output_type": "execute_result"
    }
   ],
   "source": [
    "# Revisar valores nulos\n",
    "df.isna().sum()"
   ]
  },
  {
   "cell_type": "code",
   "execution_count": 20,
   "id": "13a09e20",
   "metadata": {},
   "outputs": [
    {
     "data": {
      "text/html": [
       "<div>\n",
       "<style scoped>\n",
       "    .dataframe tbody tr th:only-of-type {\n",
       "        vertical-align: middle;\n",
       "    }\n",
       "\n",
       "    .dataframe tbody tr th {\n",
       "        vertical-align: top;\n",
       "    }\n",
       "\n",
       "    .dataframe thead th {\n",
       "        text-align: right;\n",
       "    }\n",
       "</style>\n",
       "<table border=\"1\" class=\"dataframe\">\n",
       "  <thead>\n",
       "    <tr style=\"text-align: right;\">\n",
       "      <th></th>\n",
       "      <th>Nombre</th>\n",
       "      <th>Edad</th>\n",
       "      <th>Ciudad</th>\n",
       "      <th>Mayor de Edad</th>\n",
       "      <th>Edad al cuadrado</th>\n",
       "    </tr>\n",
       "  </thead>\n",
       "  <tbody>\n",
       "    <tr>\n",
       "      <th>0</th>\n",
       "      <td>Ana</td>\n",
       "      <td>30</td>\n",
       "      <td>Santiago</td>\n",
       "      <td>True</td>\n",
       "      <td>900</td>\n",
       "    </tr>\n",
       "    <tr>\n",
       "      <th>1</th>\n",
       "      <td>Luis</td>\n",
       "      <td>25</td>\n",
       "      <td>Concepción</td>\n",
       "      <td>True</td>\n",
       "      <td>625</td>\n",
       "    </tr>\n",
       "    <tr>\n",
       "      <th>2</th>\n",
       "      <td>Pedro</td>\n",
       "      <td>40</td>\n",
       "      <td>Concepción</td>\n",
       "      <td>True</td>\n",
       "      <td>1600</td>\n",
       "    </tr>\n",
       "  </tbody>\n",
       "</table>\n",
       "</div>"
      ],
      "text/plain": [
       "  Nombre  Edad      Ciudad  Mayor de Edad  Edad al cuadrado\n",
       "0    Ana    30    Santiago           True               900\n",
       "1   Luis    25  Concepción           True               625\n",
       "2  Pedro    40  Concepción           True              1600"
      ]
     },
     "execution_count": 20,
     "metadata": {},
     "output_type": "execute_result"
    }
   ],
   "source": [
    "# Rellenar nulos\n",
    "df.fillna(0)"
   ]
  },
  {
   "cell_type": "code",
   "execution_count": 21,
   "id": "fa4966f2",
   "metadata": {},
   "outputs": [
    {
     "data": {
      "text/html": [
       "<div>\n",
       "<style scoped>\n",
       "    .dataframe tbody tr th:only-of-type {\n",
       "        vertical-align: middle;\n",
       "    }\n",
       "\n",
       "    .dataframe tbody tr th {\n",
       "        vertical-align: top;\n",
       "    }\n",
       "\n",
       "    .dataframe thead th {\n",
       "        text-align: right;\n",
       "    }\n",
       "</style>\n",
       "<table border=\"1\" class=\"dataframe\">\n",
       "  <thead>\n",
       "    <tr style=\"text-align: right;\">\n",
       "      <th></th>\n",
       "      <th>Nombre</th>\n",
       "      <th>Edad</th>\n",
       "      <th>Ciudad</th>\n",
       "      <th>Mayor de Edad</th>\n",
       "      <th>Edad al cuadrado</th>\n",
       "    </tr>\n",
       "  </thead>\n",
       "  <tbody>\n",
       "    <tr>\n",
       "      <th>0</th>\n",
       "      <td>Ana</td>\n",
       "      <td>30</td>\n",
       "      <td>Santiago</td>\n",
       "      <td>True</td>\n",
       "      <td>900</td>\n",
       "    </tr>\n",
       "    <tr>\n",
       "      <th>1</th>\n",
       "      <td>Luis</td>\n",
       "      <td>25</td>\n",
       "      <td>Concepción</td>\n",
       "      <td>True</td>\n",
       "      <td>625</td>\n",
       "    </tr>\n",
       "    <tr>\n",
       "      <th>2</th>\n",
       "      <td>Pedro</td>\n",
       "      <td>40</td>\n",
       "      <td>Concepción</td>\n",
       "      <td>True</td>\n",
       "      <td>1600</td>\n",
       "    </tr>\n",
       "  </tbody>\n",
       "</table>\n",
       "</div>"
      ],
      "text/plain": [
       "  Nombre  Edad      Ciudad  Mayor de Edad  Edad al cuadrado\n",
       "0    Ana    30    Santiago           True               900\n",
       "1   Luis    25  Concepción           True               625\n",
       "2  Pedro    40  Concepción           True              1600"
      ]
     },
     "execution_count": 21,
     "metadata": {},
     "output_type": "execute_result"
    }
   ],
   "source": [
    "# Eliminar filas con nulos\n",
    "df.dropna()"
   ]
  },
  {
   "cell_type": "markdown",
   "id": "ba6158a0",
   "metadata": {},
   "source": [
    "9. Filtrado avanzado y condiciones múltiples"
   ]
  },
  {
   "cell_type": "code",
   "execution_count": 22,
   "id": "785805ee",
   "metadata": {},
   "outputs": [
    {
     "data": {
      "text/html": [
       "<div>\n",
       "<style scoped>\n",
       "    .dataframe tbody tr th:only-of-type {\n",
       "        vertical-align: middle;\n",
       "    }\n",
       "\n",
       "    .dataframe tbody tr th {\n",
       "        vertical-align: top;\n",
       "    }\n",
       "\n",
       "    .dataframe thead th {\n",
       "        text-align: right;\n",
       "    }\n",
       "</style>\n",
       "<table border=\"1\" class=\"dataframe\">\n",
       "  <thead>\n",
       "    <tr style=\"text-align: right;\">\n",
       "      <th></th>\n",
       "      <th>Nombre</th>\n",
       "      <th>Edad</th>\n",
       "      <th>Ciudad</th>\n",
       "      <th>Mayor de Edad</th>\n",
       "      <th>Edad al cuadrado</th>\n",
       "    </tr>\n",
       "  </thead>\n",
       "  <tbody>\n",
       "    <tr>\n",
       "      <th>0</th>\n",
       "      <td>Ana</td>\n",
       "      <td>30</td>\n",
       "      <td>Santiago</td>\n",
       "      <td>True</td>\n",
       "      <td>900</td>\n",
       "    </tr>\n",
       "  </tbody>\n",
       "</table>\n",
       "</div>"
      ],
      "text/plain": [
       "  Nombre  Edad    Ciudad  Mayor de Edad  Edad al cuadrado\n",
       "0    Ana    30  Santiago           True               900"
      ]
     },
     "execution_count": 22,
     "metadata": {},
     "output_type": "execute_result"
    }
   ],
   "source": [
    "# Edad mayor a 25 y ciudad Santiago\n",
    "df[(df[\"Edad\"] > 25) & (df[\"Ciudad\"] == \"Santiago\")]"
   ]
  },
  {
   "cell_type": "markdown",
   "id": "9d80955e",
   "metadata": {},
   "source": [
    "10. Limpieza y renombrado de columnas"
   ]
  },
  {
   "cell_type": "code",
   "execution_count": 24,
   "id": "cccba197",
   "metadata": {},
   "outputs": [
    {
     "data": {
      "text/html": [
       "<div>\n",
       "<style scoped>\n",
       "    .dataframe tbody tr th:only-of-type {\n",
       "        vertical-align: middle;\n",
       "    }\n",
       "\n",
       "    .dataframe tbody tr th {\n",
       "        vertical-align: top;\n",
       "    }\n",
       "\n",
       "    .dataframe thead th {\n",
       "        text-align: right;\n",
       "    }\n",
       "</style>\n",
       "<table border=\"1\" class=\"dataframe\">\n",
       "  <thead>\n",
       "    <tr style=\"text-align: right;\">\n",
       "      <th></th>\n",
       "      <th>nombre</th>\n",
       "      <th>edad</th>\n",
       "      <th>comuna</th>\n",
       "      <th>mayor de edad</th>\n",
       "      <th>edad al cuadrado</th>\n",
       "    </tr>\n",
       "  </thead>\n",
       "  <tbody>\n",
       "    <tr>\n",
       "      <th>0</th>\n",
       "      <td>Ana</td>\n",
       "      <td>30</td>\n",
       "      <td>Santiago</td>\n",
       "      <td>True</td>\n",
       "      <td>900</td>\n",
       "    </tr>\n",
       "    <tr>\n",
       "      <th>1</th>\n",
       "      <td>Luis</td>\n",
       "      <td>25</td>\n",
       "      <td>Concepción</td>\n",
       "      <td>True</td>\n",
       "      <td>625</td>\n",
       "    </tr>\n",
       "    <tr>\n",
       "      <th>2</th>\n",
       "      <td>Pedro</td>\n",
       "      <td>40</td>\n",
       "      <td>Concepción</td>\n",
       "      <td>True</td>\n",
       "      <td>1600</td>\n",
       "    </tr>\n",
       "  </tbody>\n",
       "</table>\n",
       "</div>"
      ],
      "text/plain": [
       "  nombre  edad      comuna  mayor de edad  edad al cuadrado\n",
       "0    Ana    30    Santiago           True               900\n",
       "1   Luis    25  Concepción           True               625\n",
       "2  Pedro    40  Concepción           True              1600"
      ]
     },
     "execution_count": 24,
     "metadata": {},
     "output_type": "execute_result"
    }
   ],
   "source": [
    "# Renombrar columnas\n",
    "df.rename(columns={\"Ciudad\": \"Comuna\"}, inplace=True)\n",
    "\n",
    "# Cambiar nombres a minúscula\n",
    "df.columns = df.columns.str.lower()\n",
    "df"
   ]
  },
  {
   "cell_type": "markdown",
   "id": "358470d4",
   "metadata": {},
   "source": [
    "11. Detección de outliers (valores atípicos)"
   ]
  },
  {
   "cell_type": "code",
   "execution_count": 25,
   "id": "173c16ce",
   "metadata": {},
   "outputs": [
    {
     "name": "stdout",
     "output_type": "stream",
     "text": [
      "Empty DataFrame\n",
      "Columns: [nombre, edad, comuna, mayor de edad, edad al cuadrado]\n",
      "Index: []\n"
     ]
    }
   ],
   "source": [
    "# Detectar outliers usando rango intercuartílico (IQR)\n",
    "Q1 = df[\"edad\"].quantile(0.25)\n",
    "Q3 = df[\"edad\"].quantile(0.75)\n",
    "IQR = Q3 - Q1\n",
    "\n",
    "outliers = df[(df[\"edad\"] < Q1 - 1.5 * IQR) | (df[\"edad\"] > Q3 + 1.5 * IQR)]\n",
    "print(outliers)"
   ]
  },
  {
   "cell_type": "code",
   "execution_count": 28,
   "id": "021fc184",
   "metadata": {},
   "outputs": [
    {
     "data": {
      "text/html": [
       "<div>\n",
       "<style scoped>\n",
       "    .dataframe tbody tr th:only-of-type {\n",
       "        vertical-align: middle;\n",
       "    }\n",
       "\n",
       "    .dataframe tbody tr th {\n",
       "        vertical-align: top;\n",
       "    }\n",
       "\n",
       "    .dataframe thead th {\n",
       "        text-align: right;\n",
       "    }\n",
       "</style>\n",
       "<table border=\"1\" class=\"dataframe\">\n",
       "  <thead>\n",
       "    <tr style=\"text-align: right;\">\n",
       "      <th></th>\n",
       "      <th>nombre</th>\n",
       "      <th>edad</th>\n",
       "      <th>comuna</th>\n",
       "      <th>mayor de edad</th>\n",
       "      <th>edad al cuadrado</th>\n",
       "      <th>z_score</th>\n",
       "    </tr>\n",
       "  </thead>\n",
       "  <tbody>\n",
       "  </tbody>\n",
       "</table>\n",
       "</div>"
      ],
      "text/plain": [
       "Empty DataFrame\n",
       "Columns: [nombre, edad, comuna, mayor de edad, edad al cuadrado, z_score]\n",
       "Index: []"
      ]
     },
     "execution_count": 28,
     "metadata": {},
     "output_type": "execute_result"
    }
   ],
   "source": [
    "# Detectar outliers usando z-score\n",
    "\n",
    "from scipy.stats import zscore\n",
    "df[\"z_score\"] = zscore(df[\"edad\"])\n",
    "df_outliers = df[df[\"z_score\"].abs() > 3]\n",
    "df_outliers"
   ]
  },
  {
   "cell_type": "markdown",
   "id": "913d4f65",
   "metadata": {},
   "source": [
    "12. Aplicar funciones con .apply()"
   ]
  },
  {
   "cell_type": "code",
   "execution_count": 29,
   "id": "e85cb180",
   "metadata": {},
   "outputs": [
    {
     "data": {
      "text/html": [
       "<div>\n",
       "<style scoped>\n",
       "    .dataframe tbody tr th:only-of-type {\n",
       "        vertical-align: middle;\n",
       "    }\n",
       "\n",
       "    .dataframe tbody tr th {\n",
       "        vertical-align: top;\n",
       "    }\n",
       "\n",
       "    .dataframe thead th {\n",
       "        text-align: right;\n",
       "    }\n",
       "</style>\n",
       "<table border=\"1\" class=\"dataframe\">\n",
       "  <thead>\n",
       "    <tr style=\"text-align: right;\">\n",
       "      <th></th>\n",
       "      <th>nombre</th>\n",
       "      <th>edad</th>\n",
       "      <th>comuna</th>\n",
       "      <th>mayor de edad</th>\n",
       "      <th>edad al cuadrado</th>\n",
       "      <th>z_score</th>\n",
       "      <th>grupo_edad</th>\n",
       "    </tr>\n",
       "  </thead>\n",
       "  <tbody>\n",
       "    <tr>\n",
       "      <th>0</th>\n",
       "      <td>Ana</td>\n",
       "      <td>30</td>\n",
       "      <td>Santiago</td>\n",
       "      <td>True</td>\n",
       "      <td>900</td>\n",
       "      <td>-0.267261</td>\n",
       "      <td>Adulto</td>\n",
       "    </tr>\n",
       "    <tr>\n",
       "      <th>1</th>\n",
       "      <td>Luis</td>\n",
       "      <td>25</td>\n",
       "      <td>Concepción</td>\n",
       "      <td>True</td>\n",
       "      <td>625</td>\n",
       "      <td>-1.069045</td>\n",
       "      <td>Adulto</td>\n",
       "    </tr>\n",
       "    <tr>\n",
       "      <th>2</th>\n",
       "      <td>Pedro</td>\n",
       "      <td>40</td>\n",
       "      <td>Concepción</td>\n",
       "      <td>True</td>\n",
       "      <td>1600</td>\n",
       "      <td>1.336306</td>\n",
       "      <td>Adulto</td>\n",
       "    </tr>\n",
       "  </tbody>\n",
       "</table>\n",
       "</div>"
      ],
      "text/plain": [
       "  nombre  edad      comuna  mayor de edad  edad al cuadrado   z_score  \\\n",
       "0    Ana    30    Santiago           True               900 -0.267261   \n",
       "1   Luis    25  Concepción           True               625 -1.069045   \n",
       "2  Pedro    40  Concepción           True              1600  1.336306   \n",
       "\n",
       "  grupo_edad  \n",
       "0     Adulto  \n",
       "1     Adulto  \n",
       "2     Adulto  "
      ]
     },
     "execution_count": 29,
     "metadata": {},
     "output_type": "execute_result"
    }
   ],
   "source": [
    "# Función personalizada\n",
    "def clasificar_edad(edad):\n",
    "    if edad < 18:\n",
    "        return \"Menor\"\n",
    "    elif edad < 60:\n",
    "        return \"Adulto\"\n",
    "    else:\n",
    "        return \"Adulto mayor\"\n",
    "\n",
    "df[\"grupo_edad\"] = df[\"edad\"].apply(clasificar_edad)\n",
    "df\n"
   ]
  },
  {
   "cell_type": "markdown",
   "id": "516f91fd",
   "metadata": {},
   "source": [
    "13. Uso de lambda (funciones anónimas)"
   ]
  },
  {
   "cell_type": "code",
   "execution_count": 30,
   "id": "10d9a126",
   "metadata": {},
   "outputs": [
    {
     "data": {
      "text/html": [
       "<div>\n",
       "<style scoped>\n",
       "    .dataframe tbody tr th:only-of-type {\n",
       "        vertical-align: middle;\n",
       "    }\n",
       "\n",
       "    .dataframe tbody tr th {\n",
       "        vertical-align: top;\n",
       "    }\n",
       "\n",
       "    .dataframe thead th {\n",
       "        text-align: right;\n",
       "    }\n",
       "</style>\n",
       "<table border=\"1\" class=\"dataframe\">\n",
       "  <thead>\n",
       "    <tr style=\"text-align: right;\">\n",
       "      <th></th>\n",
       "      <th>nombre</th>\n",
       "      <th>edad</th>\n",
       "      <th>comuna</th>\n",
       "      <th>mayor de edad</th>\n",
       "      <th>edad al cuadrado</th>\n",
       "      <th>z_score</th>\n",
       "      <th>grupo_edad</th>\n",
       "      <th>edad_modificada</th>\n",
       "    </tr>\n",
       "  </thead>\n",
       "  <tbody>\n",
       "    <tr>\n",
       "      <th>0</th>\n",
       "      <td>Ana</td>\n",
       "      <td>30</td>\n",
       "      <td>Santiago</td>\n",
       "      <td>True</td>\n",
       "      <td>900</td>\n",
       "      <td>-0.267261</td>\n",
       "      <td>Adulto</td>\n",
       "      <td>30.0</td>\n",
       "    </tr>\n",
       "    <tr>\n",
       "      <th>1</th>\n",
       "      <td>Luis</td>\n",
       "      <td>25</td>\n",
       "      <td>Concepción</td>\n",
       "      <td>True</td>\n",
       "      <td>625</td>\n",
       "      <td>-1.069045</td>\n",
       "      <td>Adulto</td>\n",
       "      <td>27.5</td>\n",
       "    </tr>\n",
       "    <tr>\n",
       "      <th>2</th>\n",
       "      <td>Pedro</td>\n",
       "      <td>40</td>\n",
       "      <td>Concepción</td>\n",
       "      <td>True</td>\n",
       "      <td>1600</td>\n",
       "      <td>1.336306</td>\n",
       "      <td>Adulto</td>\n",
       "      <td>40.0</td>\n",
       "    </tr>\n",
       "  </tbody>\n",
       "</table>\n",
       "</div>"
      ],
      "text/plain": [
       "  nombre  edad      comuna  mayor de edad  edad al cuadrado   z_score  \\\n",
       "0    Ana    30    Santiago           True               900 -0.267261   \n",
       "1   Luis    25  Concepción           True               625 -1.069045   \n",
       "2  Pedro    40  Concepción           True              1600  1.336306   \n",
       "\n",
       "  grupo_edad  edad_modificada  \n",
       "0     Adulto             30.0  \n",
       "1     Adulto             27.5  \n",
       "2     Adulto             40.0  "
      ]
     },
     "execution_count": 30,
     "metadata": {},
     "output_type": "execute_result"
    }
   ],
   "source": [
    "# Crear una nueva columna con lambda\n",
    "df[\"edad_modificada\"] = df[\"edad\"].apply(lambda x: x * 1.1 if x < 30 else x)\n",
    "df"
   ]
  },
  {
   "cell_type": "markdown",
   "id": "0c80ecfb",
   "metadata": {},
   "source": [
    "14. Ejemplo combinado avanzado"
   ]
  },
  {
   "cell_type": "code",
   "execution_count": 31,
   "id": "a36fe9ef",
   "metadata": {},
   "outputs": [
    {
     "data": {
      "text/plain": [
       "ciudad    30.0\n",
       "grupo     40.0\n",
       "Name: edad, dtype: float64"
      ]
     },
     "execution_count": 31,
     "metadata": {},
     "output_type": "execute_result"
    }
   ],
   "source": [
    "# 1. Filtrar mayores de 25 años\n",
    "# 2. Agregar columna si es joven o adulto\n",
    "# 3. Agrupar por ciudad y mostrar promedio\n",
    "\n",
    "df_filtrado = df[df[\"edad\"] > 25].copy()\n",
    "df_filtrado[\"grupo\"] = df_filtrado[\"edad\"].apply(lambda x: \"joven\" if x < 35 else \"adulto\")\n",
    "resultado = df_filtrado.groupby([\"ciudad\", \"grupo\"])[\"edad\"].mean()\n",
    "resultado"
   ]
  },
  {
   "cell_type": "markdown",
   "id": "9bd95f7c",
   "metadata": {},
   "source": [
    "15. Exportar"
   ]
  },
  {
   "cell_type": "code",
   "execution_count": 32,
   "id": "5c7ac2ef",
   "metadata": {},
   "outputs": [],
   "source": [
    "df.to_csv(\"resultado.csv\", index=False)"
   ]
  }
 ],
 "metadata": {
  "kernelspec": {
   "display_name": "training_models_pi",
   "language": "python",
   "name": "python3"
  },
  "language_info": {
   "codemirror_mode": {
    "name": "ipython",
    "version": 3
   },
   "file_extension": ".py",
   "mimetype": "text/x-python",
   "name": "python",
   "nbconvert_exporter": "python",
   "pygments_lexer": "ipython3",
   "version": "3.12.8"
  }
 },
 "nbformat": 4,
 "nbformat_minor": 5
}
