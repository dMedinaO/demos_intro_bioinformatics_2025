{
 "cells": [
  {
   "cell_type": "markdown",
   "id": "bf7239de",
   "metadata": {},
   "source": [
    "### Ejemplos de repaso de programación\n",
    "\n",
    "- Variables\n",
    "- Flujos de control o bloques de control\n",
    "- Flujos de iteración\n",
    "- Funciones\n",
    "- Estructuras complejas\n",
    "- Dataframes\n",
    "- Visualización simple"
   ]
  },
  {
   "cell_type": "markdown",
   "id": "f317289d",
   "metadata": {},
   "source": [
    "### Análisis de variables en Python"
   ]
  },
  {
   "cell_type": "code",
   "execution_count": 2,
   "id": "eeade74f",
   "metadata": {},
   "outputs": [
    {
     "name": "stdout",
     "output_type": "stream",
     "text": [
      "6\n",
      "perro\n",
      "perroperroperroperroperroperro\n"
     ]
    }
   ],
   "source": [
    "a = 6\n",
    "print(a)\n",
    "a = \"perro\"\n",
    "print(a)\n",
    "a = a *6\n",
    "print(a)"
   ]
  },
  {
   "cell_type": "markdown",
   "id": "dc0f1b6f",
   "metadata": {},
   "source": [
    "- Bloques de control if/else/elif"
   ]
  },
  {
   "cell_type": "code",
   "execution_count": 6,
   "id": "4186d30f",
   "metadata": {},
   "outputs": [
    {
     "name": "stdout",
     "output_type": "stream",
     "text": [
      "Quizás no es un perro\n"
     ]
    }
   ],
   "source": [
    "if a == \"perro\":\n",
    "    print(\"Es un perro\")\n",
    "else:\n",
    "    if a == \"perrito\"*6:\n",
    "        print(\"Es un montón de perros\")\n",
    "    else:\n",
    "        print(\"Quizás no es un perro\")"
   ]
  },
  {
   "cell_type": "code",
   "execution_count": 7,
   "id": "94d027ef",
   "metadata": {},
   "outputs": [
    {
     "name": "stdout",
     "output_type": "stream",
     "text": [
      "Quizás no es un perro\n"
     ]
    }
   ],
   "source": [
    "if a == \"perro\":\n",
    "    print(\"Es un perro\")\n",
    "elif a == \"perrito\"*6:\n",
    "    print(\"Es un montón de perros\")\n",
    "else:\n",
    "    print(\"Quizás no es un perro\")"
   ]
  },
  {
   "cell_type": "markdown",
   "id": "b3ac14af",
   "metadata": {},
   "source": [
    "- Bucles o ciclos o iteraciones"
   ]
  },
  {
   "cell_type": "code",
   "execution_count": 8,
   "id": "49556610",
   "metadata": {},
   "outputs": [
    {
     "name": "stdout",
     "output_type": "stream",
     "text": [
      "0\n",
      "1\n",
      "2\n",
      "3\n",
      "4\n",
      "5\n",
      "6\n",
      "7\n",
      "8\n",
      "9\n"
     ]
    }
   ],
   "source": [
    "for i in range(10):\n",
    "    print(i)"
   ]
  },
  {
   "cell_type": "code",
   "execution_count": 18,
   "id": "93a6797c",
   "metadata": {},
   "outputs": [
    {
     "name": "stdout",
     "output_type": "stream",
     "text": [
      "The number is: 1\n",
      "I have identified the numner in 25 trials\n"
     ]
    }
   ],
   "source": [
    "import random\n",
    "\n",
    "my_number = random.randint(1, 10)\n",
    "number_of_iterations = 0\n",
    "is_equal=False\n",
    "\n",
    "while is_equal==False:\n",
    "    choise_data = random.randint(1,10)\n",
    "    number_of_iterations+=1\n",
    "    if my_number == choise_data:\n",
    "        is_equal=True\n",
    "\n",
    "print(f\"The number is: {my_number}\")\n",
    "print(f\"I have identified the numner in {number_of_iterations} trials\")\n",
    "    "
   ]
  },
  {
   "cell_type": "markdown",
   "id": "2ce1fc83",
   "metadata": {},
   "source": [
    "### Ejemplos de funciones\n",
    "\n",
    "Una función en Python es un bloque de código reutilizable que realiza una tarea específica. Se define con def y puede aceptar entradas (parámetros) y retornar un resultado."
   ]
  },
  {
   "cell_type": "markdown",
   "id": "67f44d0a",
   "metadata": {},
   "source": [
    "- Ejemplo 1: Función sin parámetros y sin retorno"
   ]
  },
  {
   "cell_type": "code",
   "execution_count": 1,
   "id": "a12c273d",
   "metadata": {},
   "outputs": [
    {
     "name": "stdout",
     "output_type": "stream",
     "text": [
      "¡Hola, bienvenido al curso de Python!\n"
     ]
    }
   ],
   "source": [
    "def saludar():\n",
    "    print(\"¡Hola, bienvenido al curso de Python!\")\n",
    "\n",
    "# Uso\n",
    "saludar()"
   ]
  },
  {
   "cell_type": "markdown",
   "id": "800f16d8",
   "metadata": {},
   "source": [
    "- Ejemplo 2: Función con un parámetro"
   ]
  },
  {
   "cell_type": "code",
   "execution_count": 2,
   "id": "51e77e37",
   "metadata": {},
   "outputs": [
    {
     "name": "stdout",
     "output_type": "stream",
     "text": [
      "Hola Carlos, ¡bienvenido al curso!\n"
     ]
    }
   ],
   "source": [
    "def saludar_nombre(nombre):\n",
    "    print(f\"Hola {nombre}, ¡bienvenido al curso!\")\n",
    "\n",
    "# Uso\n",
    "saludar_nombre(\"Carlos\")"
   ]
  },
  {
   "cell_type": "markdown",
   "id": "234e79ec",
   "metadata": {},
   "source": [
    "- Ejemplo 3: Función que retorna un valor"
   ]
  },
  {
   "cell_type": "code",
   "execution_count": 3,
   "id": "4d96b8b5",
   "metadata": {},
   "outputs": [
    {
     "name": "stdout",
     "output_type": "stream",
     "text": [
      "El cuadrado es: 25\n"
     ]
    }
   ],
   "source": [
    "def estimar_cuadrado(numero):\n",
    "    return numero ** 2\n",
    "\n",
    "# Uso\n",
    "resultado = estimar_cuadrado(5)\n",
    "print(\"El cuadrado es:\", resultado)"
   ]
  },
  {
   "cell_type": "markdown",
   "id": "eb092b4e",
   "metadata": {},
   "source": [
    "- Ejemplo 4: Función con múltiples parámetros"
   ]
  },
  {
   "cell_type": "code",
   "execution_count": 4,
   "id": "0734ee39",
   "metadata": {},
   "outputs": [
    {
     "name": "stdout",
     "output_type": "stream",
     "text": [
      "10\n"
     ]
    }
   ],
   "source": [
    "def sumar(a, b):\n",
    "    return a + b\n",
    "\n",
    "# Uso\n",
    "print(sumar(3, 7))  # Resultado: 10"
   ]
  },
  {
   "cell_type": "markdown",
   "id": "8c19982b",
   "metadata": {},
   "source": [
    "- Ejemplo 5: Función con valores por defecto"
   ]
  },
  {
   "cell_type": "code",
   "execution_count": 5,
   "id": "b983d354",
   "metadata": {},
   "outputs": [
    {
     "name": "stdout",
     "output_type": "stream",
     "text": [
      "Hola, invitado\n",
      "Hola, Sofía\n"
     ]
    }
   ],
   "source": [
    "def saludar(nombre=\"invitado\"):\n",
    "    print(f\"Hola, {nombre}\")\n",
    "\n",
    "# Uso\n",
    "saludar()           # Hola, invitado\n",
    "saludar(\"Sofía\")    # Hola, Sofía"
   ]
  },
  {
   "cell_type": "markdown",
   "id": "a7d40c44",
   "metadata": {},
   "source": [
    "- Ejemplo 6: Función que retorna múltiples valores"
   ]
  },
  {
   "cell_type": "code",
   "execution_count": 6,
   "id": "8272fe86",
   "metadata": {},
   "outputs": [
    {
     "name": "stdout",
     "output_type": "stream",
     "text": [
      "Suma: 13\n",
      "Resta: 7\n"
     ]
    }
   ],
   "source": [
    "def operaciones(a, b):\n",
    "    suma = a + b\n",
    "    resta = a - b\n",
    "    return suma, resta\n",
    "\n",
    "# Uso\n",
    "s, r = operaciones(10, 3)\n",
    "print(\"Suma:\", s)\n",
    "print(\"Resta:\", r)"
   ]
  },
  {
   "cell_type": "markdown",
   "id": "0215790e",
   "metadata": {},
   "source": [
    "- Ejemplo 7: Función recursiva (más avanzado)"
   ]
  },
  {
   "cell_type": "code",
   "execution_count": 7,
   "id": "359d8227",
   "metadata": {},
   "outputs": [
    {
     "name": "stdout",
     "output_type": "stream",
     "text": [
      "120\n"
     ]
    }
   ],
   "source": [
    "def factorial(n):\n",
    "    if n == 0:\n",
    "        return 1\n",
    "    else:\n",
    "        return n * factorial(n - 1)\n",
    "\n",
    "# Uso\n",
    "print(factorial(5))  # Resultado: 120"
   ]
  }
 ],
 "metadata": {
  "kernelspec": {
   "display_name": "training_models_pi",
   "language": "python",
   "name": "python3"
  },
  "language_info": {
   "codemirror_mode": {
    "name": "ipython",
    "version": 3
   },
   "file_extension": ".py",
   "mimetype": "text/x-python",
   "name": "python",
   "nbconvert_exporter": "python",
   "pygments_lexer": "ipython3",
   "version": "3.12.8"
  }
 },
 "nbformat": 4,
 "nbformat_minor": 5
}
