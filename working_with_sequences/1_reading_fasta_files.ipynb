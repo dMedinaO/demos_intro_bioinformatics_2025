{
 "cells": [
  {
   "cell_type": "code",
   "execution_count": 80,
   "id": "8691dd8a",
   "metadata": {},
   "outputs": [],
   "source": [
    "import pandas as pd\n",
    "from Bio import SeqIO\n",
    "import seaborn as sns"
   ]
  },
  {
   "cell_type": "code",
   "execution_count": 64,
   "id": "40737dfe",
   "metadata": {},
   "outputs": [],
   "source": [
    "def get_id(data_value):\n",
    "    return data_value.split(\"|\")[1]"
   ]
  },
  {
   "cell_type": "code",
   "execution_count": 65,
   "id": "5e8fa8a7",
   "metadata": {},
   "outputs": [],
   "source": [
    "def get_organism(data_value):\n",
    "    return data_value.split(\"OS=\")[-1].split(\"OX=\")[0].split(\"(\")[0].strip()"
   ]
  },
  {
   "cell_type": "code",
   "execution_count": 66,
   "id": "43ed732a",
   "metadata": {},
   "outputs": [],
   "source": [
    "def get_genero(data_value):\n",
    "    return data_value.split(\" \")[0]"
   ]
  },
  {
   "cell_type": "code",
   "execution_count": 67,
   "id": "7bd279d0",
   "metadata": {},
   "outputs": [
    {
     "data": {
      "text/html": [
       "<div>\n",
       "<style scoped>\n",
       "    .dataframe tbody tr th:only-of-type {\n",
       "        vertical-align: middle;\n",
       "    }\n",
       "\n",
       "    .dataframe tbody tr th {\n",
       "        vertical-align: top;\n",
       "    }\n",
       "\n",
       "    .dataframe thead th {\n",
       "        text-align: right;\n",
       "    }\n",
       "</style>\n",
       "<table border=\"1\" class=\"dataframe\">\n",
       "  <thead>\n",
       "    <tr style=\"text-align: right;\">\n",
       "      <th></th>\n",
       "      <th>id_seq</th>\n",
       "      <th>description</th>\n",
       "      <th>sequence</th>\n",
       "    </tr>\n",
       "  </thead>\n",
       "  <tbody>\n",
       "    <tr>\n",
       "      <th>0</th>\n",
       "      <td>sp|A0A336U966|TYRP_ASPTE</td>\n",
       "      <td>sp|A0A336U966|TYRP_ASPTE Tyrosinase P OS=Asper...</td>\n",
       "      <td>MGFYRNLVLVAASCTQALGLCPAPRCDSPDIRHEWGELSREDRLSY...</td>\n",
       "    </tr>\n",
       "    <tr>\n",
       "      <th>1</th>\n",
       "      <td>sp|B0Y4X4|MPKA_ASPFC</td>\n",
       "      <td>sp|B0Y4X4|MPKA_ASPFC Mitogen-activated protein...</td>\n",
       "      <td>MSDLQGRKVFKVFNQDFIVDERYNVTKELGQGAYGIVCAATNVHTG...</td>\n",
       "    </tr>\n",
       "    <tr>\n",
       "      <th>2</th>\n",
       "      <td>sp|C9XI63|TEPS3_ANOGA</td>\n",
       "      <td>sp|C9XI63|TEPS3_ANOGA Thioester-containing pro...</td>\n",
       "      <td>MWQFIRSRILTVIIFIGAAHGLLVVGPKFIRANQEYTLVISNFNSQ...</td>\n",
       "    </tr>\n",
       "    <tr>\n",
       "      <th>3</th>\n",
       "      <td>sp|E9RBR0|ABR2_ASPFU</td>\n",
       "      <td>sp|E9RBR0|ABR2_ASPFU Laccase abr2 OS=Aspergill...</td>\n",
       "      <td>MWYQSASLLGVAAVAQAATVHYSLDLTWETGSPNGVSREMIFVNGQ...</td>\n",
       "    </tr>\n",
       "    <tr>\n",
       "      <th>4</th>\n",
       "      <td>sp|H6C7U6|CHS4_EXODN</td>\n",
       "      <td>sp|H6C7U6|CHS4_EXODN Chitin synthase 4 OS=Exop...</td>\n",
       "      <td>MAEPRMPRPATSPTRDKSHSPYRESPSRRLRDVETGYNPPQNPPYP...</td>\n",
       "    </tr>\n",
       "    <tr>\n",
       "      <th>...</th>\n",
       "      <td>...</td>\n",
       "      <td>...</td>\n",
       "      <td>...</td>\n",
       "    </tr>\n",
       "    <tr>\n",
       "      <th>72</th>\n",
       "      <td>sp|A0A0B4H2J9|ARP1_METGA</td>\n",
       "      <td>sp|A0A0B4H2J9|ARP1_METGA Scytalone dehydratase...</td>\n",
       "      <td>MSQSLTSSVETDSKTGSSKAISFQDYLDLSALDWARLRAILAPTLY...</td>\n",
       "    </tr>\n",
       "    <tr>\n",
       "      <th>73</th>\n",
       "      <td>sp|A0A2I1C3Z1|NSRI_ASPN1</td>\n",
       "      <td>sp|A0A2I1C3Z1|NSRI_ASPN1 Scytalone dehydratase...</td>\n",
       "      <td>MTKTVPPKTPAYEDTVGCQIALFEWAESYDTKDWGRLAKCIAPTLR...</td>\n",
       "    </tr>\n",
       "    <tr>\n",
       "      <th>74</th>\n",
       "      <td>sp|A0A4P8DJH6|DMR17_CRYX8</td>\n",
       "      <td>sp|A0A4P8DJH6|DMR17_CRYX8 Scytalone dehydratas...</td>\n",
       "      <td>MSKQPASEDIFGCQAALYEWAESYDSKDWDRLSKCIAPVLRVDYRA...</td>\n",
       "    </tr>\n",
       "    <tr>\n",
       "      <th>75</th>\n",
       "      <td>sp|E9ET41|ARP1_METRA</td>\n",
       "      <td>sp|E9ET41|ARP1_METRA Scytalone dehydratase-lik...</td>\n",
       "      <td>MNQSLTPSAGTDSKTGSSKAISFQDYLDLSTLDWARLRAILAPALY...</td>\n",
       "    </tr>\n",
       "    <tr>\n",
       "      <th>76</th>\n",
       "      <td>sp|F9XMW5|TF29_ZYMTI</td>\n",
       "      <td>sp|F9XMW5|TF29_ZYMTI Transcription factor MYCG...</td>\n",
       "      <td>MVFCTYCGQSFTRDEHLERHILTHTNVKPFKCFTCHMSFARRDLLQ...</td>\n",
       "    </tr>\n",
       "  </tbody>\n",
       "</table>\n",
       "<p>77 rows × 3 columns</p>\n",
       "</div>"
      ],
      "text/plain": [
       "                       id_seq  \\\n",
       "0    sp|A0A336U966|TYRP_ASPTE   \n",
       "1        sp|B0Y4X4|MPKA_ASPFC   \n",
       "2       sp|C9XI63|TEPS3_ANOGA   \n",
       "3        sp|E9RBR0|ABR2_ASPFU   \n",
       "4        sp|H6C7U6|CHS4_EXODN   \n",
       "..                        ...   \n",
       "72   sp|A0A0B4H2J9|ARP1_METGA   \n",
       "73   sp|A0A2I1C3Z1|NSRI_ASPN1   \n",
       "74  sp|A0A4P8DJH6|DMR17_CRYX8   \n",
       "75       sp|E9ET41|ARP1_METRA   \n",
       "76       sp|F9XMW5|TF29_ZYMTI   \n",
       "\n",
       "                                          description  \\\n",
       "0   sp|A0A336U966|TYRP_ASPTE Tyrosinase P OS=Asper...   \n",
       "1   sp|B0Y4X4|MPKA_ASPFC Mitogen-activated protein...   \n",
       "2   sp|C9XI63|TEPS3_ANOGA Thioester-containing pro...   \n",
       "3   sp|E9RBR0|ABR2_ASPFU Laccase abr2 OS=Aspergill...   \n",
       "4   sp|H6C7U6|CHS4_EXODN Chitin synthase 4 OS=Exop...   \n",
       "..                                                ...   \n",
       "72  sp|A0A0B4H2J9|ARP1_METGA Scytalone dehydratase...   \n",
       "73  sp|A0A2I1C3Z1|NSRI_ASPN1 Scytalone dehydratase...   \n",
       "74  sp|A0A4P8DJH6|DMR17_CRYX8 Scytalone dehydratas...   \n",
       "75  sp|E9ET41|ARP1_METRA Scytalone dehydratase-lik...   \n",
       "76  sp|F9XMW5|TF29_ZYMTI Transcription factor MYCG...   \n",
       "\n",
       "                                             sequence  \n",
       "0   MGFYRNLVLVAASCTQALGLCPAPRCDSPDIRHEWGELSREDRLSY...  \n",
       "1   MSDLQGRKVFKVFNQDFIVDERYNVTKELGQGAYGIVCAATNVHTG...  \n",
       "2   MWQFIRSRILTVIIFIGAAHGLLVVGPKFIRANQEYTLVISNFNSQ...  \n",
       "3   MWYQSASLLGVAAVAQAATVHYSLDLTWETGSPNGVSREMIFVNGQ...  \n",
       "4   MAEPRMPRPATSPTRDKSHSPYRESPSRRLRDVETGYNPPQNPPYP...  \n",
       "..                                                ...  \n",
       "72  MSQSLTSSVETDSKTGSSKAISFQDYLDLSALDWARLRAILAPTLY...  \n",
       "73  MTKTVPPKTPAYEDTVGCQIALFEWAESYDTKDWGRLAKCIAPTLR...  \n",
       "74  MSKQPASEDIFGCQAALYEWAESYDSKDWDRLSKCIAPVLRVDYRA...  \n",
       "75  MNQSLTPSAGTDSKTGSSKAISFQDYLDLSTLDWARLRAILAPALY...  \n",
       "76  MVFCTYCGQSFTRDEHLERHILTHTNVKPFKCFTCHMSFARRDLLQ...  \n",
       "\n",
       "[77 rows x 3 columns]"
      ]
     },
     "execution_count": 67,
     "metadata": {},
     "output_type": "execute_result"
    }
   ],
   "source": [
    "matrix_data = []\n",
    "\n",
    "for record in SeqIO.parse(\"../demo_sequences/uniprotkb_melanin_fungal_AND_reviewed_t_2025_07_03.fasta\", \"fasta\"):\n",
    "    \n",
    "    row = {\n",
    "        \"id_seq\" : record.id,\n",
    "        \"description\" : record.description,\n",
    "        \"sequence\" : str(record.seq)\n",
    "    }\n",
    "\n",
    "    matrix_data.append(row)\n",
    "\n",
    "df_sequences = pd.DataFrame(matrix_data)\n",
    "df_sequences"
   ]
  },
  {
   "cell_type": "code",
   "execution_count": 68,
   "id": "c6d2dbd9",
   "metadata": {},
   "outputs": [
    {
     "data": {
      "text/html": [
       "<div>\n",
       "<style scoped>\n",
       "    .dataframe tbody tr th:only-of-type {\n",
       "        vertical-align: middle;\n",
       "    }\n",
       "\n",
       "    .dataframe tbody tr th {\n",
       "        vertical-align: top;\n",
       "    }\n",
       "\n",
       "    .dataframe thead th {\n",
       "        text-align: right;\n",
       "    }\n",
       "</style>\n",
       "<table border=\"1\" class=\"dataframe\">\n",
       "  <thead>\n",
       "    <tr style=\"text-align: right;\">\n",
       "      <th></th>\n",
       "      <th>id_seq</th>\n",
       "      <th>description</th>\n",
       "      <th>sequence</th>\n",
       "      <th>id</th>\n",
       "      <th>organism</th>\n",
       "      <th>genero</th>\n",
       "    </tr>\n",
       "  </thead>\n",
       "  <tbody>\n",
       "    <tr>\n",
       "      <th>0</th>\n",
       "      <td>sp|A0A336U966|TYRP_ASPTE</td>\n",
       "      <td>sp|A0A336U966|TYRP_ASPTE Tyrosinase P OS=Asper...</td>\n",
       "      <td>MGFYRNLVLVAASCTQALGLCPAPRCDSPDIRHEWGELSREDRLSY...</td>\n",
       "      <td>A0A336U966</td>\n",
       "      <td>Aspergillus terreus</td>\n",
       "      <td>Aspergillus</td>\n",
       "    </tr>\n",
       "    <tr>\n",
       "      <th>1</th>\n",
       "      <td>sp|B0Y4X4|MPKA_ASPFC</td>\n",
       "      <td>sp|B0Y4X4|MPKA_ASPFC Mitogen-activated protein...</td>\n",
       "      <td>MSDLQGRKVFKVFNQDFIVDERYNVTKELGQGAYGIVCAATNVHTG...</td>\n",
       "      <td>B0Y4X4</td>\n",
       "      <td>Aspergillus fumigatus</td>\n",
       "      <td>Aspergillus</td>\n",
       "    </tr>\n",
       "    <tr>\n",
       "      <th>2</th>\n",
       "      <td>sp|C9XI63|TEPS3_ANOGA</td>\n",
       "      <td>sp|C9XI63|TEPS3_ANOGA Thioester-containing pro...</td>\n",
       "      <td>MWQFIRSRILTVIIFIGAAHGLLVVGPKFIRANQEYTLVISNFNSQ...</td>\n",
       "      <td>C9XI63</td>\n",
       "      <td>Anopheles gambiae</td>\n",
       "      <td>Anopheles</td>\n",
       "    </tr>\n",
       "    <tr>\n",
       "      <th>3</th>\n",
       "      <td>sp|E9RBR0|ABR2_ASPFU</td>\n",
       "      <td>sp|E9RBR0|ABR2_ASPFU Laccase abr2 OS=Aspergill...</td>\n",
       "      <td>MWYQSASLLGVAAVAQAATVHYSLDLTWETGSPNGVSREMIFVNGQ...</td>\n",
       "      <td>E9RBR0</td>\n",
       "      <td>Aspergillus fumigatus</td>\n",
       "      <td>Aspergillus</td>\n",
       "    </tr>\n",
       "    <tr>\n",
       "      <th>4</th>\n",
       "      <td>sp|H6C7U6|CHS4_EXODN</td>\n",
       "      <td>sp|H6C7U6|CHS4_EXODN Chitin synthase 4 OS=Exop...</td>\n",
       "      <td>MAEPRMPRPATSPTRDKSHSPYRESPSRRLRDVETGYNPPQNPPYP...</td>\n",
       "      <td>H6C7U6</td>\n",
       "      <td>Exophiala dermatitidis</td>\n",
       "      <td>Exophiala</td>\n",
       "    </tr>\n",
       "    <tr>\n",
       "      <th>...</th>\n",
       "      <td>...</td>\n",
       "      <td>...</td>\n",
       "      <td>...</td>\n",
       "      <td>...</td>\n",
       "      <td>...</td>\n",
       "      <td>...</td>\n",
       "    </tr>\n",
       "    <tr>\n",
       "      <th>72</th>\n",
       "      <td>sp|A0A0B4H2J9|ARP1_METGA</td>\n",
       "      <td>sp|A0A0B4H2J9|ARP1_METGA Scytalone dehydratase...</td>\n",
       "      <td>MSQSLTSSVETDSKTGSSKAISFQDYLDLSALDWARLRAILAPTLY...</td>\n",
       "      <td>A0A0B4H2J9</td>\n",
       "      <td>Metarhizium guizhouense</td>\n",
       "      <td>Metarhizium</td>\n",
       "    </tr>\n",
       "    <tr>\n",
       "      <th>73</th>\n",
       "      <td>sp|A0A2I1C3Z1|NSRI_ASPN1</td>\n",
       "      <td>sp|A0A2I1C3Z1|NSRI_ASPN1 Scytalone dehydratase...</td>\n",
       "      <td>MTKTVPPKTPAYEDTVGCQIALFEWAESYDTKDWGRLAKCIAPTLR...</td>\n",
       "      <td>A0A2I1C3Z1</td>\n",
       "      <td>Aspergillus novofumigatus</td>\n",
       "      <td>Aspergillus</td>\n",
       "    </tr>\n",
       "    <tr>\n",
       "      <th>74</th>\n",
       "      <td>sp|A0A4P8DJH6|DMR17_CRYX8</td>\n",
       "      <td>sp|A0A4P8DJH6|DMR17_CRYX8 Scytalone dehydratas...</td>\n",
       "      <td>MSKQPASEDIFGCQAALYEWAESYDSKDWDRLSKCIAPVLRVDYRA...</td>\n",
       "      <td>A0A4P8DJH6</td>\n",
       "      <td>Cryptosporiopsis sp.</td>\n",
       "      <td>Cryptosporiopsis</td>\n",
       "    </tr>\n",
       "    <tr>\n",
       "      <th>75</th>\n",
       "      <td>sp|E9ET41|ARP1_METRA</td>\n",
       "      <td>sp|E9ET41|ARP1_METRA Scytalone dehydratase-lik...</td>\n",
       "      <td>MNQSLTPSAGTDSKTGSSKAISFQDYLDLSTLDWARLRAILAPALY...</td>\n",
       "      <td>E9ET41</td>\n",
       "      <td>Metarhizium robertsii</td>\n",
       "      <td>Metarhizium</td>\n",
       "    </tr>\n",
       "    <tr>\n",
       "      <th>76</th>\n",
       "      <td>sp|F9XMW5|TF29_ZYMTI</td>\n",
       "      <td>sp|F9XMW5|TF29_ZYMTI Transcription factor MYCG...</td>\n",
       "      <td>MVFCTYCGQSFTRDEHLERHILTHTNVKPFKCFTCHMSFARRDLLQ...</td>\n",
       "      <td>F9XMW5</td>\n",
       "      <td>Zymoseptoria tritici</td>\n",
       "      <td>Zymoseptoria</td>\n",
       "    </tr>\n",
       "  </tbody>\n",
       "</table>\n",
       "<p>77 rows × 6 columns</p>\n",
       "</div>"
      ],
      "text/plain": [
       "                       id_seq  \\\n",
       "0    sp|A0A336U966|TYRP_ASPTE   \n",
       "1        sp|B0Y4X4|MPKA_ASPFC   \n",
       "2       sp|C9XI63|TEPS3_ANOGA   \n",
       "3        sp|E9RBR0|ABR2_ASPFU   \n",
       "4        sp|H6C7U6|CHS4_EXODN   \n",
       "..                        ...   \n",
       "72   sp|A0A0B4H2J9|ARP1_METGA   \n",
       "73   sp|A0A2I1C3Z1|NSRI_ASPN1   \n",
       "74  sp|A0A4P8DJH6|DMR17_CRYX8   \n",
       "75       sp|E9ET41|ARP1_METRA   \n",
       "76       sp|F9XMW5|TF29_ZYMTI   \n",
       "\n",
       "                                          description  \\\n",
       "0   sp|A0A336U966|TYRP_ASPTE Tyrosinase P OS=Asper...   \n",
       "1   sp|B0Y4X4|MPKA_ASPFC Mitogen-activated protein...   \n",
       "2   sp|C9XI63|TEPS3_ANOGA Thioester-containing pro...   \n",
       "3   sp|E9RBR0|ABR2_ASPFU Laccase abr2 OS=Aspergill...   \n",
       "4   sp|H6C7U6|CHS4_EXODN Chitin synthase 4 OS=Exop...   \n",
       "..                                                ...   \n",
       "72  sp|A0A0B4H2J9|ARP1_METGA Scytalone dehydratase...   \n",
       "73  sp|A0A2I1C3Z1|NSRI_ASPN1 Scytalone dehydratase...   \n",
       "74  sp|A0A4P8DJH6|DMR17_CRYX8 Scytalone dehydratas...   \n",
       "75  sp|E9ET41|ARP1_METRA Scytalone dehydratase-lik...   \n",
       "76  sp|F9XMW5|TF29_ZYMTI Transcription factor MYCG...   \n",
       "\n",
       "                                             sequence          id  \\\n",
       "0   MGFYRNLVLVAASCTQALGLCPAPRCDSPDIRHEWGELSREDRLSY...  A0A336U966   \n",
       "1   MSDLQGRKVFKVFNQDFIVDERYNVTKELGQGAYGIVCAATNVHTG...      B0Y4X4   \n",
       "2   MWQFIRSRILTVIIFIGAAHGLLVVGPKFIRANQEYTLVISNFNSQ...      C9XI63   \n",
       "3   MWYQSASLLGVAAVAQAATVHYSLDLTWETGSPNGVSREMIFVNGQ...      E9RBR0   \n",
       "4   MAEPRMPRPATSPTRDKSHSPYRESPSRRLRDVETGYNPPQNPPYP...      H6C7U6   \n",
       "..                                                ...         ...   \n",
       "72  MSQSLTSSVETDSKTGSSKAISFQDYLDLSALDWARLRAILAPTLY...  A0A0B4H2J9   \n",
       "73  MTKTVPPKTPAYEDTVGCQIALFEWAESYDTKDWGRLAKCIAPTLR...  A0A2I1C3Z1   \n",
       "74  MSKQPASEDIFGCQAALYEWAESYDSKDWDRLSKCIAPVLRVDYRA...  A0A4P8DJH6   \n",
       "75  MNQSLTPSAGTDSKTGSSKAISFQDYLDLSTLDWARLRAILAPALY...      E9ET41   \n",
       "76  MVFCTYCGQSFTRDEHLERHILTHTNVKPFKCFTCHMSFARRDLLQ...      F9XMW5   \n",
       "\n",
       "                     organism            genero  \n",
       "0         Aspergillus terreus       Aspergillus  \n",
       "1       Aspergillus fumigatus       Aspergillus  \n",
       "2           Anopheles gambiae         Anopheles  \n",
       "3       Aspergillus fumigatus       Aspergillus  \n",
       "4      Exophiala dermatitidis         Exophiala  \n",
       "..                        ...               ...  \n",
       "72    Metarhizium guizhouense       Metarhizium  \n",
       "73  Aspergillus novofumigatus       Aspergillus  \n",
       "74       Cryptosporiopsis sp.  Cryptosporiopsis  \n",
       "75      Metarhizium robertsii       Metarhizium  \n",
       "76       Zymoseptoria tritici      Zymoseptoria  \n",
       "\n",
       "[77 rows x 6 columns]"
      ]
     },
     "execution_count": 68,
     "metadata": {},
     "output_type": "execute_result"
    }
   ],
   "source": [
    "df_sequences[\"id\"] = df_sequences[\"id_seq\"].apply(get_id)\n",
    "df_sequences[\"organism\"] = df_sequences[\"description\"].apply(get_organism)\n",
    "df_sequences[\"genero\"] = df_sequences[\"organism\"].apply(get_genero)\n",
    "df_sequences"
   ]
  },
  {
   "cell_type": "code",
   "execution_count": 69,
   "id": "cd78a123",
   "metadata": {},
   "outputs": [
    {
     "data": {
      "text/plain": [
       "(24,)"
      ]
     },
     "execution_count": 69,
     "metadata": {},
     "output_type": "execute_result"
    }
   ],
   "source": [
    "df_sequences[\"organism\"].unique().shape"
   ]
  },
  {
   "cell_type": "code",
   "execution_count": 70,
   "id": "eef28b1a",
   "metadata": {},
   "outputs": [
    {
     "data": {
      "text/plain": [
       "(17,)"
      ]
     },
     "execution_count": 70,
     "metadata": {},
     "output_type": "execute_result"
    }
   ],
   "source": [
    "df_sequences[\"genero\"].unique().shape"
   ]
  },
  {
   "cell_type": "code",
   "execution_count": 71,
   "id": "f8da5e85",
   "metadata": {},
   "outputs": [],
   "source": [
    "import json"
   ]
  },
  {
   "cell_type": "code",
   "execution_count": 72,
   "id": "28206f9f",
   "metadata": {},
   "outputs": [],
   "source": [
    "with open(\"../demo_sequences/uniprotkb_melanin_fungal_AND_reviewed_t_2025_07_03.json\", 'r') as doc:\n",
    "    data_json_query = json.load(doc)"
   ]
  },
  {
   "cell_type": "code",
   "execution_count": 73,
   "id": "914d97d1",
   "metadata": {},
   "outputs": [],
   "source": [
    "matrix_data_json = []\n",
    "\n",
    "for result in data_json_query['results']:\n",
    "    primaryAccession = result['primaryAccession']\n",
    "    taxonID = result['organism']['taxonId']\n",
    "    is_fungal = \"Fungi\" in result['organism']['lineage']\n",
    "    try:\n",
    "        list_ec_number = result['proteinDescription']['recommendedName']['ecNumbers']\n",
    "        ec_number_list = []\n",
    "        for element in list_ec_number:\n",
    "            ec_number_list.append(element['value'])\n",
    "        \n",
    "        ec_number_list = \":\".join(ec_number_list)\n",
    "    except:\n",
    "        ec_number_list = \"\"\n",
    "\n",
    "    row_data = {\n",
    "        \"primaryAccession\": primaryAccession,\n",
    "        \"taxonID\" : taxonID,\n",
    "        \"is_fungal\" : is_fungal,\n",
    "        \"ec_number_list\" : ec_number_list\n",
    "    }\n",
    "    matrix_data_json.append(row_data)\n",
    "\n",
    "df_data_from_json = pd.DataFrame(matrix_data_json)"
   ]
  },
  {
   "cell_type": "code",
   "execution_count": 74,
   "id": "c0886efb",
   "metadata": {},
   "outputs": [
    {
     "data": {
      "text/html": [
       "<div>\n",
       "<style scoped>\n",
       "    .dataframe tbody tr th:only-of-type {\n",
       "        vertical-align: middle;\n",
       "    }\n",
       "\n",
       "    .dataframe tbody tr th {\n",
       "        vertical-align: top;\n",
       "    }\n",
       "\n",
       "    .dataframe thead th {\n",
       "        text-align: right;\n",
       "    }\n",
       "</style>\n",
       "<table border=\"1\" class=\"dataframe\">\n",
       "  <thead>\n",
       "    <tr style=\"text-align: right;\">\n",
       "      <th></th>\n",
       "      <th>primaryAccession</th>\n",
       "      <th>taxonID</th>\n",
       "      <th>is_fungal</th>\n",
       "      <th>ec_number_list</th>\n",
       "    </tr>\n",
       "  </thead>\n",
       "  <tbody>\n",
       "    <tr>\n",
       "      <th>0</th>\n",
       "      <td>A0A336U966</td>\n",
       "      <td>33178</td>\n",
       "      <td>True</td>\n",
       "      <td>1.14.18.-</td>\n",
       "    </tr>\n",
       "    <tr>\n",
       "      <th>1</th>\n",
       "      <td>B0Y4X4</td>\n",
       "      <td>451804</td>\n",
       "      <td>True</td>\n",
       "      <td>2.7.11.24</td>\n",
       "    </tr>\n",
       "    <tr>\n",
       "      <th>2</th>\n",
       "      <td>C9XI63</td>\n",
       "      <td>7165</td>\n",
       "      <td>False</td>\n",
       "      <td></td>\n",
       "    </tr>\n",
       "    <tr>\n",
       "      <th>3</th>\n",
       "      <td>E9RBR0</td>\n",
       "      <td>330879</td>\n",
       "      <td>True</td>\n",
       "      <td>1.10.3.-</td>\n",
       "    </tr>\n",
       "    <tr>\n",
       "      <th>4</th>\n",
       "      <td>H6C7U6</td>\n",
       "      <td>858893</td>\n",
       "      <td>True</td>\n",
       "      <td>2.4.1.16</td>\n",
       "    </tr>\n",
       "    <tr>\n",
       "      <th>...</th>\n",
       "      <td>...</td>\n",
       "      <td>...</td>\n",
       "      <td>...</td>\n",
       "      <td>...</td>\n",
       "    </tr>\n",
       "    <tr>\n",
       "      <th>72</th>\n",
       "      <td>A0A0B4H2J9</td>\n",
       "      <td>1276136</td>\n",
       "      <td>True</td>\n",
       "      <td>4.2.1.-</td>\n",
       "    </tr>\n",
       "    <tr>\n",
       "      <th>73</th>\n",
       "      <td>A0A2I1C3Z1</td>\n",
       "      <td>1392255</td>\n",
       "      <td>True</td>\n",
       "      <td>4.2.1.-</td>\n",
       "    </tr>\n",
       "    <tr>\n",
       "      <th>74</th>\n",
       "      <td>A0A4P8DJH6</td>\n",
       "      <td>2572248</td>\n",
       "      <td>True</td>\n",
       "      <td>4.2.1.-</td>\n",
       "    </tr>\n",
       "    <tr>\n",
       "      <th>75</th>\n",
       "      <td>E9ET41</td>\n",
       "      <td>655844</td>\n",
       "      <td>True</td>\n",
       "      <td>4.2.1.-</td>\n",
       "    </tr>\n",
       "    <tr>\n",
       "      <th>76</th>\n",
       "      <td>F9XMW5</td>\n",
       "      <td>336722</td>\n",
       "      <td>True</td>\n",
       "      <td></td>\n",
       "    </tr>\n",
       "  </tbody>\n",
       "</table>\n",
       "<p>77 rows × 4 columns</p>\n",
       "</div>"
      ],
      "text/plain": [
       "   primaryAccession  taxonID  is_fungal ec_number_list\n",
       "0        A0A336U966    33178       True      1.14.18.-\n",
       "1            B0Y4X4   451804       True      2.7.11.24\n",
       "2            C9XI63     7165      False               \n",
       "3            E9RBR0   330879       True       1.10.3.-\n",
       "4            H6C7U6   858893       True       2.4.1.16\n",
       "..              ...      ...        ...            ...\n",
       "72       A0A0B4H2J9  1276136       True        4.2.1.-\n",
       "73       A0A2I1C3Z1  1392255       True        4.2.1.-\n",
       "74       A0A4P8DJH6  2572248       True        4.2.1.-\n",
       "75           E9ET41   655844       True        4.2.1.-\n",
       "76           F9XMW5   336722       True               \n",
       "\n",
       "[77 rows x 4 columns]"
      ]
     },
     "execution_count": 74,
     "metadata": {},
     "output_type": "execute_result"
    }
   ],
   "source": [
    "df_data_from_json"
   ]
  },
  {
   "cell_type": "code",
   "execution_count": 75,
   "id": "5fbd3391",
   "metadata": {},
   "outputs": [],
   "source": [
    "df_data_process = df_sequences.merge(right=df_data_from_json, left_on=\"id\", right_on=\"primaryAccession\")"
   ]
  },
  {
   "cell_type": "code",
   "execution_count": 76,
   "id": "fccca324",
   "metadata": {},
   "outputs": [
    {
     "data": {
      "text/plain": [
       "Index(['id_seq', 'description', 'sequence', 'id', 'organism', 'genero',\n",
       "       'primaryAccession', 'taxonID', 'is_fungal', 'ec_number_list'],\n",
       "      dtype='object')"
      ]
     },
     "execution_count": 76,
     "metadata": {},
     "output_type": "execute_result"
    }
   ],
   "source": [
    "df_data_process.columns"
   ]
  },
  {
   "cell_type": "code",
   "execution_count": 77,
   "id": "a0cc4795",
   "metadata": {},
   "outputs": [
    {
     "data": {
      "text/plain": [
       "is_fungal\n",
       "True     74\n",
       "False     3\n",
       "Name: count, dtype: int64"
      ]
     },
     "execution_count": 77,
     "metadata": {},
     "output_type": "execute_result"
    }
   ],
   "source": [
    "df_data_process[\"is_fungal\"].value_counts()"
   ]
  },
  {
   "cell_type": "code",
   "execution_count": 79,
   "id": "c7e72754",
   "metadata": {},
   "outputs": [
    {
     "data": {
      "text/plain": [
       "count      77.000000\n",
       "mean      693.311688\n",
       "std       574.556517\n",
       "min       142.000000\n",
       "25%       356.000000\n",
       "50%       470.000000\n",
       "75%       818.000000\n",
       "max      2175.000000\n",
       "Name: length_seq, dtype: float64"
      ]
     },
     "execution_count": 79,
     "metadata": {},
     "output_type": "execute_result"
    }
   ],
   "source": [
    "df_data_process[\"length_seq\"] = df_data_process[\"sequence\"].str.len()\n",
    "df_data_process[\"length_seq\"].describe()"
   ]
  },
  {
   "cell_type": "code",
   "execution_count": 81,
   "id": "bb6fe9cb",
   "metadata": {},
   "outputs": [
    {
     "data": {
      "text/plain": [
       "<Axes: xlabel='length_seq', ylabel='Count'>"
      ]
     },
     "execution_count": 81,
     "metadata": {},
     "output_type": "execute_result"
    },
    {
     "data": {
      "image/png": "[encoded data removed]",
      "text/plain": [
       "<Figure size 640x480 with 1 Axes>"
      ]
     },
     "metadata": {},
     "output_type": "display_data"
    }
   ],
   "source": [
    "sns.histplot(data=df_data_process, x=\"length_seq\", fill=False, kde=True)"
   ]
  },
  {
   "cell_type": "code",
   "execution_count": 82,
   "id": "799b2472",
   "metadata": {},
   "outputs": [],
   "source": [
    "df_data_process_filter = df_data_process[\n",
    "    (df_data_process[\"is_fungal\"]) & \n",
    "    (df_data_process[\"length_seq\"]<=1024)]\n",
    "\n",
    "df_data_process_filter.to_csv(\"../process_results/1_processed_dataset.csv\", index=False)"
   ]
  }
 ],
 "metadata": {
  "kernelspec": {
   "display_name": "training_models_pi",
   "language": "python",
   "name": "python3"
  },
  "language_info": {
   "codemirror_mode": {
    "name": "ipython",
    "version": 3
   },
   "file_extension": ".py",
   "mimetype": "text/x-python",
   "name": "python",
   "nbconvert_exporter": "python",
   "pygments_lexer": "ipython3",
   "version": "3.12.8"
  }
 },
 "nbformat": 4,
 "nbformat_minor": 5
}
